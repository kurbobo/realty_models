{
  "nbformat": 4,
  "nbformat_minor": 0,
  "metadata": {
    "colab": {
      "name": "occ_resnet_flat_experiments_with_svm_and_random_forest.ipynb",
      "provenance": [],
      "collapsed_sections": []
    },
    "kernelspec": {
      "name": "python3",
      "display_name": "Python 3"
    },
    "widgets": {
      "application/vnd.jupyter.widget-state+json": {
        "e8f00a9463134476a1b28d569d41a5eb": {
          "model_module": "@jupyter-widgets/controls",
          "model_name": "HBoxModel",
          "state": {
            "_view_name": "HBoxView",
            "_dom_classes": [],
            "_model_name": "HBoxModel",
            "_view_module": "@jupyter-widgets/controls",
            "_model_module_version": "1.5.0",
            "_view_count": null,
            "_view_module_version": "1.5.0",
            "box_style": "",
            "layout": "IPY_MODEL_d058a61dfb124fdb9ad32a25cde364a1",
            "_model_module": "@jupyter-widgets/controls",
            "children": [
              "IPY_MODEL_74c0904b9d30419d848ee8fab34a255f",
              "IPY_MODEL_dc13ef24578940b282b6497ded81ef4d"
            ]
          }
        },
        "d058a61dfb124fdb9ad32a25cde364a1": {
          "model_module": "@jupyter-widgets/base",
          "model_name": "LayoutModel",
          "state": {
            "_view_name": "LayoutView",
            "grid_template_rows": null,
            "right": null,
            "justify_content": null,
            "_view_module": "@jupyter-widgets/base",
            "overflow": null,
            "_model_module_version": "1.2.0",
            "_view_count": null,
            "flex_flow": null,
            "width": null,
            "min_width": null,
            "border": null,
            "align_items": null,
            "bottom": null,
            "_model_module": "@jupyter-widgets/base",
            "top": null,
            "grid_column": null,
            "overflow_y": null,
            "overflow_x": null,
            "grid_auto_flow": null,
            "grid_area": null,
            "grid_template_columns": null,
            "flex": null,
            "_model_name": "LayoutModel",
            "justify_items": null,
            "grid_row": null,
            "max_height": null,
            "align_content": null,
            "visibility": null,
            "align_self": null,
            "height": null,
            "min_height": null,
            "padding": null,
            "grid_auto_rows": null,
            "grid_gap": null,
            "max_width": null,
            "order": null,
            "_view_module_version": "1.2.0",
            "grid_template_areas": null,
            "object_position": null,
            "object_fit": null,
            "grid_auto_columns": null,
            "margin": null,
            "display": null,
            "left": null
          }
        },
        "74c0904b9d30419d848ee8fab34a255f": {
          "model_module": "@jupyter-widgets/controls",
          "model_name": "FloatProgressModel",
          "state": {
            "_view_name": "ProgressView",
            "style": "IPY_MODEL_be3368a41fc8459a81e10b8bd0689243",
            "_dom_classes": [],
            "description": "100%",
            "_model_name": "FloatProgressModel",
            "bar_style": "success",
            "max": 102502400,
            "_view_module": "@jupyter-widgets/controls",
            "_model_module_version": "1.5.0",
            "value": 102502400,
            "_view_count": null,
            "_view_module_version": "1.5.0",
            "orientation": "horizontal",
            "min": 0,
            "description_tooltip": null,
            "_model_module": "@jupyter-widgets/controls",
            "layout": "IPY_MODEL_5b19e69563544f89b915deda71dc88e7"
          }
        },
        "dc13ef24578940b282b6497ded81ef4d": {
          "model_module": "@jupyter-widgets/controls",
          "model_name": "HTMLModel",
          "state": {
            "_view_name": "HTMLView",
            "style": "IPY_MODEL_c50ac4e802104dba965861411375a63c",
            "_dom_classes": [],
            "description": "",
            "_model_name": "HTMLModel",
            "placeholder": "​",
            "_view_module": "@jupyter-widgets/controls",
            "_model_module_version": "1.5.0",
            "value": " 97.8M/97.8M [00:01&lt;00:00, 101MB/s]",
            "_view_count": null,
            "_view_module_version": "1.5.0",
            "description_tooltip": null,
            "_model_module": "@jupyter-widgets/controls",
            "layout": "IPY_MODEL_6e35884ac10d46dd973ad01bf13e5afa"
          }
        },
        "be3368a41fc8459a81e10b8bd0689243": {
          "model_module": "@jupyter-widgets/controls",
          "model_name": "ProgressStyleModel",
          "state": {
            "_view_name": "StyleView",
            "_model_name": "ProgressStyleModel",
            "description_width": "initial",
            "_view_module": "@jupyter-widgets/base",
            "_model_module_version": "1.5.0",
            "_view_count": null,
            "_view_module_version": "1.2.0",
            "bar_color": null,
            "_model_module": "@jupyter-widgets/controls"
          }
        },
        "5b19e69563544f89b915deda71dc88e7": {
          "model_module": "@jupyter-widgets/base",
          "model_name": "LayoutModel",
          "state": {
            "_view_name": "LayoutView",
            "grid_template_rows": null,
            "right": null,
            "justify_content": null,
            "_view_module": "@jupyter-widgets/base",
            "overflow": null,
            "_model_module_version": "1.2.0",
            "_view_count": null,
            "flex_flow": null,
            "width": null,
            "min_width": null,
            "border": null,
            "align_items": null,
            "bottom": null,
            "_model_module": "@jupyter-widgets/base",
            "top": null,
            "grid_column": null,
            "overflow_y": null,
            "overflow_x": null,
            "grid_auto_flow": null,
            "grid_area": null,
            "grid_template_columns": null,
            "flex": null,
            "_model_name": "LayoutModel",
            "justify_items": null,
            "grid_row": null,
            "max_height": null,
            "align_content": null,
            "visibility": null,
            "align_self": null,
            "height": null,
            "min_height": null,
            "padding": null,
            "grid_auto_rows": null,
            "grid_gap": null,
            "max_width": null,
            "order": null,
            "_view_module_version": "1.2.0",
            "grid_template_areas": null,
            "object_position": null,
            "object_fit": null,
            "grid_auto_columns": null,
            "margin": null,
            "display": null,
            "left": null
          }
        },
        "c50ac4e802104dba965861411375a63c": {
          "model_module": "@jupyter-widgets/controls",
          "model_name": "DescriptionStyleModel",
          "state": {
            "_view_name": "StyleView",
            "_model_name": "DescriptionStyleModel",
            "description_width": "",
            "_view_module": "@jupyter-widgets/base",
            "_model_module_version": "1.5.0",
            "_view_count": null,
            "_view_module_version": "1.2.0",
            "_model_module": "@jupyter-widgets/controls"
          }
        },
        "6e35884ac10d46dd973ad01bf13e5afa": {
          "model_module": "@jupyter-widgets/base",
          "model_name": "LayoutModel",
          "state": {
            "_view_name": "LayoutView",
            "grid_template_rows": null,
            "right": null,
            "justify_content": null,
            "_view_module": "@jupyter-widgets/base",
            "overflow": null,
            "_model_module_version": "1.2.0",
            "_view_count": null,
            "flex_flow": null,
            "width": null,
            "min_width": null,
            "border": null,
            "align_items": null,
            "bottom": null,
            "_model_module": "@jupyter-widgets/base",
            "top": null,
            "grid_column": null,
            "overflow_y": null,
            "overflow_x": null,
            "grid_auto_flow": null,
            "grid_area": null,
            "grid_template_columns": null,
            "flex": null,
            "_model_name": "LayoutModel",
            "justify_items": null,
            "grid_row": null,
            "max_height": null,
            "align_content": null,
            "visibility": null,
            "align_self": null,
            "height": null,
            "min_height": null,
            "padding": null,
            "grid_auto_rows": null,
            "grid_gap": null,
            "max_width": null,
            "order": null,
            "_view_module_version": "1.2.0",
            "grid_template_areas": null,
            "object_position": null,
            "object_fit": null,
            "grid_auto_columns": null,
            "margin": null,
            "display": null,
            "left": null
          }
        },
        "3f817128127948c2b6cfcca80ca4f936": {
          "model_module": "@jupyter-widgets/controls",
          "model_name": "HBoxModel",
          "state": {
            "_view_name": "HBoxView",
            "_dom_classes": [],
            "_model_name": "HBoxModel",
            "_view_module": "@jupyter-widgets/controls",
            "_model_module_version": "1.5.0",
            "_view_count": null,
            "_view_module_version": "1.5.0",
            "box_style": "",
            "layout": "IPY_MODEL_eb4dea286bc14b7da79dbe980b6a5b2e",
            "_model_module": "@jupyter-widgets/controls",
            "children": [
              "IPY_MODEL_34b0e5ab54a44721a285b25631ce9551",
              "IPY_MODEL_8f01e8e5c7d047429bee5ef8461043df"
            ]
          }
        },
        "eb4dea286bc14b7da79dbe980b6a5b2e": {
          "model_module": "@jupyter-widgets/base",
          "model_name": "LayoutModel",
          "state": {
            "_view_name": "LayoutView",
            "grid_template_rows": null,
            "right": null,
            "justify_content": null,
            "_view_module": "@jupyter-widgets/base",
            "overflow": null,
            "_model_module_version": "1.2.0",
            "_view_count": null,
            "flex_flow": null,
            "width": null,
            "min_width": null,
            "border": null,
            "align_items": null,
            "bottom": null,
            "_model_module": "@jupyter-widgets/base",
            "top": null,
            "grid_column": null,
            "overflow_y": null,
            "overflow_x": null,
            "grid_auto_flow": null,
            "grid_area": null,
            "grid_template_columns": null,
            "flex": null,
            "_model_name": "LayoutModel",
            "justify_items": null,
            "grid_row": null,
            "max_height": null,
            "align_content": null,
            "visibility": null,
            "align_self": null,
            "height": null,
            "min_height": null,
            "padding": null,
            "grid_auto_rows": null,
            "grid_gap": null,
            "max_width": null,
            "order": null,
            "_view_module_version": "1.2.0",
            "grid_template_areas": null,
            "object_position": null,
            "object_fit": null,
            "grid_auto_columns": null,
            "margin": null,
            "display": null,
            "left": null
          }
        },
        "34b0e5ab54a44721a285b25631ce9551": {
          "model_module": "@jupyter-widgets/controls",
          "model_name": "FloatProgressModel",
          "state": {
            "_view_name": "ProgressView",
            "style": "IPY_MODEL_46ada5b7bff74e3cb0aca42ab7f2fb39",
            "_dom_classes": [],
            "description": "",
            "_model_name": "FloatProgressModel",
            "bar_style": "success",
            "max": 1,
            "_view_module": "@jupyter-widgets/controls",
            "_model_module_version": "1.5.0",
            "value": 1,
            "_view_count": null,
            "_view_module_version": "1.5.0",
            "orientation": "horizontal",
            "min": 0,
            "description_tooltip": null,
            "_model_module": "@jupyter-widgets/controls",
            "layout": "IPY_MODEL_10437eecf5c8455cbd6e0dd259146459"
          }
        },
        "8f01e8e5c7d047429bee5ef8461043df": {
          "model_module": "@jupyter-widgets/controls",
          "model_name": "HTMLModel",
          "state": {
            "_view_name": "HTMLView",
            "style": "IPY_MODEL_bed45865c7b24855b6941f749246d607",
            "_dom_classes": [],
            "description": "",
            "_model_name": "HTMLModel",
            "placeholder": "​",
            "_view_module": "@jupyter-widgets/controls",
            "_model_module_version": "1.5.0",
            "value": " 6/? [01:24&lt;00:00, 14.11s/it]",
            "_view_count": null,
            "_view_module_version": "1.5.0",
            "description_tooltip": null,
            "_model_module": "@jupyter-widgets/controls",
            "layout": "IPY_MODEL_4b3d57bfab2d430f8dbe3542e19b07ec"
          }
        },
        "46ada5b7bff74e3cb0aca42ab7f2fb39": {
          "model_module": "@jupyter-widgets/controls",
          "model_name": "ProgressStyleModel",
          "state": {
            "_view_name": "StyleView",
            "_model_name": "ProgressStyleModel",
            "description_width": "initial",
            "_view_module": "@jupyter-widgets/base",
            "_model_module_version": "1.5.0",
            "_view_count": null,
            "_view_module_version": "1.2.0",
            "bar_color": null,
            "_model_module": "@jupyter-widgets/controls"
          }
        },
        "10437eecf5c8455cbd6e0dd259146459": {
          "model_module": "@jupyter-widgets/base",
          "model_name": "LayoutModel",
          "state": {
            "_view_name": "LayoutView",
            "grid_template_rows": null,
            "right": null,
            "justify_content": null,
            "_view_module": "@jupyter-widgets/base",
            "overflow": null,
            "_model_module_version": "1.2.0",
            "_view_count": null,
            "flex_flow": null,
            "width": null,
            "min_width": null,
            "border": null,
            "align_items": null,
            "bottom": null,
            "_model_module": "@jupyter-widgets/base",
            "top": null,
            "grid_column": null,
            "overflow_y": null,
            "overflow_x": null,
            "grid_auto_flow": null,
            "grid_area": null,
            "grid_template_columns": null,
            "flex": null,
            "_model_name": "LayoutModel",
            "justify_items": null,
            "grid_row": null,
            "max_height": null,
            "align_content": null,
            "visibility": null,
            "align_self": null,
            "height": null,
            "min_height": null,
            "padding": null,
            "grid_auto_rows": null,
            "grid_gap": null,
            "max_width": null,
            "order": null,
            "_view_module_version": "1.2.0",
            "grid_template_areas": null,
            "object_position": null,
            "object_fit": null,
            "grid_auto_columns": null,
            "margin": null,
            "display": null,
            "left": null
          }
        },
        "bed45865c7b24855b6941f749246d607": {
          "model_module": "@jupyter-widgets/controls",
          "model_name": "DescriptionStyleModel",
          "state": {
            "_view_name": "StyleView",
            "_model_name": "DescriptionStyleModel",
            "description_width": "",
            "_view_module": "@jupyter-widgets/base",
            "_model_module_version": "1.5.0",
            "_view_count": null,
            "_view_module_version": "1.2.0",
            "_model_module": "@jupyter-widgets/controls"
          }
        },
        "4b3d57bfab2d430f8dbe3542e19b07ec": {
          "model_module": "@jupyter-widgets/base",
          "model_name": "LayoutModel",
          "state": {
            "_view_name": "LayoutView",
            "grid_template_rows": null,
            "right": null,
            "justify_content": null,
            "_view_module": "@jupyter-widgets/base",
            "overflow": null,
            "_model_module_version": "1.2.0",
            "_view_count": null,
            "flex_flow": null,
            "width": null,
            "min_width": null,
            "border": null,
            "align_items": null,
            "bottom": null,
            "_model_module": "@jupyter-widgets/base",
            "top": null,
            "grid_column": null,
            "overflow_y": null,
            "overflow_x": null,
            "grid_auto_flow": null,
            "grid_area": null,
            "grid_template_columns": null,
            "flex": null,
            "_model_name": "LayoutModel",
            "justify_items": null,
            "grid_row": null,
            "max_height": null,
            "align_content": null,
            "visibility": null,
            "align_self": null,
            "height": null,
            "min_height": null,
            "padding": null,
            "grid_auto_rows": null,
            "grid_gap": null,
            "max_width": null,
            "order": null,
            "_view_module_version": "1.2.0",
            "grid_template_areas": null,
            "object_position": null,
            "object_fit": null,
            "grid_auto_columns": null,
            "margin": null,
            "display": null,
            "left": null
          }
        },
        "271db61409994afc92efc300b1bea38e": {
          "model_module": "@jupyter-widgets/controls",
          "model_name": "HBoxModel",
          "state": {
            "_view_name": "HBoxView",
            "_dom_classes": [],
            "_model_name": "HBoxModel",
            "_view_module": "@jupyter-widgets/controls",
            "_model_module_version": "1.5.0",
            "_view_count": null,
            "_view_module_version": "1.5.0",
            "box_style": "",
            "layout": "IPY_MODEL_73a66dfa40084311bcf5ba3f1b89dabb",
            "_model_module": "@jupyter-widgets/controls",
            "children": [
              "IPY_MODEL_5aa20c864a6e4124bfa4a707d96474f7",
              "IPY_MODEL_ce13d4b27cd942e99e4912df7df07611"
            ]
          }
        },
        "73a66dfa40084311bcf5ba3f1b89dabb": {
          "model_module": "@jupyter-widgets/base",
          "model_name": "LayoutModel",
          "state": {
            "_view_name": "LayoutView",
            "grid_template_rows": null,
            "right": null,
            "justify_content": null,
            "_view_module": "@jupyter-widgets/base",
            "overflow": null,
            "_model_module_version": "1.2.0",
            "_view_count": null,
            "flex_flow": null,
            "width": null,
            "min_width": null,
            "border": null,
            "align_items": null,
            "bottom": null,
            "_model_module": "@jupyter-widgets/base",
            "top": null,
            "grid_column": null,
            "overflow_y": null,
            "overflow_x": null,
            "grid_auto_flow": null,
            "grid_area": null,
            "grid_template_columns": null,
            "flex": null,
            "_model_name": "LayoutModel",
            "justify_items": null,
            "grid_row": null,
            "max_height": null,
            "align_content": null,
            "visibility": null,
            "align_self": null,
            "height": null,
            "min_height": null,
            "padding": null,
            "grid_auto_rows": null,
            "grid_gap": null,
            "max_width": null,
            "order": null,
            "_view_module_version": "1.2.0",
            "grid_template_areas": null,
            "object_position": null,
            "object_fit": null,
            "grid_auto_columns": null,
            "margin": null,
            "display": null,
            "left": null
          }
        },
        "5aa20c864a6e4124bfa4a707d96474f7": {
          "model_module": "@jupyter-widgets/controls",
          "model_name": "FloatProgressModel",
          "state": {
            "_view_name": "ProgressView",
            "style": "IPY_MODEL_261e9cd447e74861884c64be1aa95990",
            "_dom_classes": [],
            "description": "",
            "_model_name": "FloatProgressModel",
            "bar_style": "success",
            "max": 1,
            "_view_module": "@jupyter-widgets/controls",
            "_model_module_version": "1.5.0",
            "value": 1,
            "_view_count": null,
            "_view_module_version": "1.5.0",
            "orientation": "horizontal",
            "min": 0,
            "description_tooltip": null,
            "_model_module": "@jupyter-widgets/controls",
            "layout": "IPY_MODEL_fee0598cc9304ecd938f5bf6203180e8"
          }
        },
        "ce13d4b27cd942e99e4912df7df07611": {
          "model_module": "@jupyter-widgets/controls",
          "model_name": "HTMLModel",
          "state": {
            "_view_name": "HTMLView",
            "style": "IPY_MODEL_e91aeb47ee4b4b73b5d6a8105eded601",
            "_dom_classes": [],
            "description": "",
            "_model_name": "HTMLModel",
            "placeholder": "​",
            "_view_module": "@jupyter-widgets/controls",
            "_model_module_version": "1.5.0",
            "value": " 7/? [00:32&lt;00:00,  4.71s/it]",
            "_view_count": null,
            "_view_module_version": "1.5.0",
            "description_tooltip": null,
            "_model_module": "@jupyter-widgets/controls",
            "layout": "IPY_MODEL_540b6b1bd03d4a8f807207a01a299f13"
          }
        },
        "261e9cd447e74861884c64be1aa95990": {
          "model_module": "@jupyter-widgets/controls",
          "model_name": "ProgressStyleModel",
          "state": {
            "_view_name": "StyleView",
            "_model_name": "ProgressStyleModel",
            "description_width": "initial",
            "_view_module": "@jupyter-widgets/base",
            "_model_module_version": "1.5.0",
            "_view_count": null,
            "_view_module_version": "1.2.0",
            "bar_color": null,
            "_model_module": "@jupyter-widgets/controls"
          }
        },
        "fee0598cc9304ecd938f5bf6203180e8": {
          "model_module": "@jupyter-widgets/base",
          "model_name": "LayoutModel",
          "state": {
            "_view_name": "LayoutView",
            "grid_template_rows": null,
            "right": null,
            "justify_content": null,
            "_view_module": "@jupyter-widgets/base",
            "overflow": null,
            "_model_module_version": "1.2.0",
            "_view_count": null,
            "flex_flow": null,
            "width": null,
            "min_width": null,
            "border": null,
            "align_items": null,
            "bottom": null,
            "_model_module": "@jupyter-widgets/base",
            "top": null,
            "grid_column": null,
            "overflow_y": null,
            "overflow_x": null,
            "grid_auto_flow": null,
            "grid_area": null,
            "grid_template_columns": null,
            "flex": null,
            "_model_name": "LayoutModel",
            "justify_items": null,
            "grid_row": null,
            "max_height": null,
            "align_content": null,
            "visibility": null,
            "align_self": null,
            "height": null,
            "min_height": null,
            "padding": null,
            "grid_auto_rows": null,
            "grid_gap": null,
            "max_width": null,
            "order": null,
            "_view_module_version": "1.2.0",
            "grid_template_areas": null,
            "object_position": null,
            "object_fit": null,
            "grid_auto_columns": null,
            "margin": null,
            "display": null,
            "left": null
          }
        },
        "e91aeb47ee4b4b73b5d6a8105eded601": {
          "model_module": "@jupyter-widgets/controls",
          "model_name": "DescriptionStyleModel",
          "state": {
            "_view_name": "StyleView",
            "_model_name": "DescriptionStyleModel",
            "description_width": "",
            "_view_module": "@jupyter-widgets/base",
            "_model_module_version": "1.5.0",
            "_view_count": null,
            "_view_module_version": "1.2.0",
            "_model_module": "@jupyter-widgets/controls"
          }
        },
        "540b6b1bd03d4a8f807207a01a299f13": {
          "model_module": "@jupyter-widgets/base",
          "model_name": "LayoutModel",
          "state": {
            "_view_name": "LayoutView",
            "grid_template_rows": null,
            "right": null,
            "justify_content": null,
            "_view_module": "@jupyter-widgets/base",
            "overflow": null,
            "_model_module_version": "1.2.0",
            "_view_count": null,
            "flex_flow": null,
            "width": null,
            "min_width": null,
            "border": null,
            "align_items": null,
            "bottom": null,
            "_model_module": "@jupyter-widgets/base",
            "top": null,
            "grid_column": null,
            "overflow_y": null,
            "overflow_x": null,
            "grid_auto_flow": null,
            "grid_area": null,
            "grid_template_columns": null,
            "flex": null,
            "_model_name": "LayoutModel",
            "justify_items": null,
            "grid_row": null,
            "max_height": null,
            "align_content": null,
            "visibility": null,
            "align_self": null,
            "height": null,
            "min_height": null,
            "padding": null,
            "grid_auto_rows": null,
            "grid_gap": null,
            "max_width": null,
            "order": null,
            "_view_module_version": "1.2.0",
            "grid_template_areas": null,
            "object_position": null,
            "object_fit": null,
            "grid_auto_columns": null,
            "margin": null,
            "display": null,
            "left": null
          }
        }
      }
    },
    "accelerator": "GPU"
  },
  "cells": [
    {
      "cell_type": "code",
      "metadata": {
        "colab": {
          "base_uri": "https://localhost:8080/"
        },
        "id": "na4eEf06kDh3",
        "outputId": "39f7841e-de4a-45dc-9ca1-2fd3f3ff8e21"
      },
      "source": [
        "# mount google drive\r\n",
        "from google.colab import drive\r\n",
        "drive.mount(\"/content/drive\")"
      ],
      "execution_count": null,
      "outputs": [
        {
          "output_type": "stream",
          "text": [
            "Mounted at /content/drive\n"
          ],
          "name": "stdout"
        }
      ]
    },
    {
      "cell_type": "markdown",
      "metadata": {
        "id": "Fz9AZY0Zj9Lx"
      },
      "source": [
        "https://medium.com/squad-engineering/one-class-classification-for-images-with-deep-features-69182fb4c9c5"
      ]
    },
    {
      "cell_type": "markdown",
      "metadata": {
        "id": "2L9mtFQWJHNc"
      },
      "source": [
        "https://pytorch.org/tutorials/beginner/finetuning_torchvision_models_tutorial.html"
      ]
    },
    {
      "cell_type": "code",
      "metadata": {
        "id": "c_Qyke4fkf6o"
      },
      "source": [
        "# necessary imports\r\n",
        "import os\r\n",
        "import math\r\n",
        "import pandas as pd\r\n",
        "import numpy as np\r\n",
        "data_path = '/content/drive/MyDrive/магистратура/realty_model/occ/'\r\n",
        "pic_path = '/content/drive/MyDrive/магистратура/realty_model/occ/data/'"
      ],
      "execution_count": null,
      "outputs": []
    },
    {
      "cell_type": "code",
      "metadata": {
        "id": "y2kOBaw0kTfe"
      },
      "source": [
        "import random\r\n",
        "import cv2\r\n",
        "import seaborn as sns\r\n",
        "from tqdm.notebook import tqdm\r\n",
        "import matplotlib.pyplot as plt\r\n",
        "import torch\r\n",
        "import torchvision\r\n",
        "import torch.nn as nn\r\n",
        "import torch.optim as optim\r\n",
        "import torch.nn.functional as F\r\n",
        "from torchvision import transforms, utils, datasets, models\r\n",
        "from torch.utils.data import Dataset, DataLoader, SubsetRandomSampler\r\n",
        "from sklearn.metrics import classification_report, confusion_matrix\r\n",
        "from sklearn.model_selection import train_test_split\r\n",
        "from torch.optim import lr_scheduler\r\n",
        "from glob import glob\r\n",
        "from PIL import Image \r\n",
        "import copy"
      ],
      "execution_count": null,
      "outputs": []
    },
    {
      "cell_type": "code",
      "metadata": {
        "colab": {
          "base_uri": "https://localhost:8080/"
        },
        "id": "dWEhrXm_kV6r",
        "outputId": "b90cbd43-3b0a-49b8-af92-2aa37b0666fb"
      },
      "source": [
        "#define seeds for random consistency\r\n",
        "np.random.seed(0)\r\n",
        "torch.manual_seed(0)"
      ],
      "execution_count": null,
      "outputs": [
        {
          "output_type": "execute_result",
          "data": {
            "text/plain": [
              "<torch._C.Generator at 0x7fb5fdde8870>"
            ]
          },
          "metadata": {
            "tags": []
          },
          "execution_count": 5
        }
      ]
    },
    {
      "cell_type": "code",
      "metadata": {
        "id": "j8nKk9sekYEH"
      },
      "source": [
        "%matplotlib inline\r\n",
        "sns.set_style('darkgrid')"
      ],
      "execution_count": null,
      "outputs": []
    },
    {
      "cell_type": "code",
      "metadata": {
        "colab": {
          "base_uri": "https://localhost:8080/"
        },
        "id": "JgV-w6drka76",
        "outputId": "e993f160-f3d5-4d28-d768-66cac521045e"
      },
      "source": [
        "#choose device\r\n",
        "device = torch.device(\"cuda\" if torch.cuda.is_available() else \"cpu\")\r\n",
        "print(\"We're using =>\", device)\r\n",
        "root_dir = pic_path\r\n",
        "print(\"The data lies here =>\", root_dir)"
      ],
      "execution_count": null,
      "outputs": [
        {
          "output_type": "stream",
          "text": [
            "We're using => cuda\n",
            "The data lies here => /content/drive/MyDrive/магистратура/realty_model/occ/data/\n"
          ],
          "name": "stdout"
        }
      ]
    },
    {
      "cell_type": "code",
      "metadata": {
        "colab": {
          "base_uri": "https://localhost:8080/"
        },
        "id": "OZSIS1we8rcn",
        "outputId": "ff829baf-c6ba-4f78-866d-24bf63514f12"
      },
      "source": [
        "!pip install natsort"
      ],
      "execution_count": null,
      "outputs": [
        {
          "output_type": "stream",
          "text": [
            "Requirement already satisfied: natsort in /usr/local/lib/python3.6/dist-packages (5.5.0)\n"
          ],
          "name": "stdout"
        }
      ]
    },
    {
      "cell_type": "code",
      "metadata": {
        "id": "7wjJFdU9ki79"
      },
      "source": [
        "# define image transforms for train and test\r\n",
        "import PIL\r\n",
        "image_transforms = {\r\n",
        "    \"train\": transforms.Compose([\r\n",
        "        transforms.Resize((224, 224)),\r\n",
        "        torchvision.transforms.RandomHorizontalFlip(),\r\n",
        "    torchvision.transforms.RandomRotation(20, resample=PIL.Image.BILINEAR),\r\n",
        "        transforms.ToTensor()\r\n",
        "    ]),\r\n",
        "    \"test\": transforms.Compose([\r\n",
        "        transforms.Resize((224, 224)),\r\n",
        "        transforms.ToTensor()])\r\n",
        "    }"
      ],
      "execution_count": null,
      "outputs": []
    },
    {
      "cell_type": "code",
      "metadata": {
        "id": "jdMqSqb78bvG"
      },
      "source": [
        "import natsort\r\n",
        "import glob\r\n",
        "class CustomDataSet(Dataset):\r\n",
        "    \"\"\"This dataset contains pairs (image, label) as elements\r\n",
        "    and depending on only_flats will give only_flats labels \r\n",
        "    or pair with flats and not_flats\r\n",
        "    (as some models for OCC needs only samples from positive dataset)\r\n",
        "    \"\"\"\r\n",
        "    def __init__(self, main_dir, transform, only_flats=False):\r\n",
        "        self.main_dir = main_dir\r\n",
        "        self.transform = transform\r\n",
        "        tmp = glob.glob(os.path.join(main_dir, '*'))\r\n",
        "        if only_flats:\r\n",
        "            all_imgs = os.listdir(self.main_dir)\r\n",
        "        else:\r\n",
        "            all_imgs = [os.path.join(x, y) for x in tmp for y in os.listdir(x)]\r\n",
        "        # print(all_imgs)\r\n",
        "        self.total_imgs = natsort.natsorted(all_imgs)\r\n",
        "\r\n",
        "    def __len__(self):\r\n",
        "        return len(self.total_imgs)\r\n",
        "\r\n",
        "    def __getitem__(self, idx):\r\n",
        "        label = 0 if 'not_flat' in self.total_imgs[idx] else 1\r\n",
        "        img_loc = os.path.join(self.main_dir, self.total_imgs[idx])\r\n",
        "        image = Image.open(img_loc).convert(\"RGB\")\r\n",
        "        tensor_image = self.transform(image)\r\n",
        "        return tensor_image, label"
      ],
      "execution_count": null,
      "outputs": []
    },
    {
      "cell_type": "code",
      "metadata": {
        "id": "wUo72DJJk5Ou"
      },
      "source": [
        "train_dataset = CustomDataSet(os.path.join(root_dir, 'train'),transform=image_transforms['train'])\r\n",
        "test_dataset = CustomDataSet(os.path.join(root_dir, 'test'),transform=image_transforms['test'])"
      ],
      "execution_count": null,
      "outputs": []
    },
    {
      "cell_type": "code",
      "metadata": {
        "colab": {
          "base_uri": "https://localhost:8080/"
        },
        "id": "_Yk26sQXvb5F",
        "outputId": "b8340f93-df8c-40c6-daaa-118b6364a5f3"
      },
      "source": [
        "os.listdir(os.path.join(root_dir, 'train'))"
      ],
      "execution_count": null,
      "outputs": [
        {
          "output_type": "execute_result",
          "data": {
            "text/plain": [
              "['not_flat', 'flat']"
            ]
          },
          "metadata": {
            "tags": []
          },
          "execution_count": 134
        }
      ]
    },
    {
      "cell_type": "code",
      "metadata": {
        "id": "iEaPweMKryYf",
        "colab": {
          "base_uri": "https://localhost:8080/",
          "height": 103,
          "referenced_widgets": [
            "e8f00a9463134476a1b28d569d41a5eb",
            "d058a61dfb124fdb9ad32a25cde364a1",
            "74c0904b9d30419d848ee8fab34a255f",
            "dc13ef24578940b282b6497ded81ef4d",
            "be3368a41fc8459a81e10b8bd0689243",
            "5b19e69563544f89b915deda71dc88e7",
            "c50ac4e802104dba965861411375a63c",
            "6e35884ac10d46dd973ad01bf13e5afa"
          ]
        },
        "outputId": "739fedb8-f26b-4fbc-fb23-3813b2cce065"
      },
      "source": [
        "#loading pretrained resnet50 model\r\n",
        "model = models.resnet50(pretrained=True,)\r\n",
        "model = torch.jit.script(model).to(device)"
      ],
      "execution_count": null,
      "outputs": [
        {
          "output_type": "stream",
          "text": [
            "Downloading: \"https://download.pytorch.org/models/resnet50-19c8e357.pth\" to /root/.cache/torch/hub/checkpoints/resnet50-19c8e357.pth\n"
          ],
          "name": "stderr"
        },
        {
          "output_type": "display_data",
          "data": {
            "application/vnd.jupyter.widget-view+json": {
              "model_id": "e8f00a9463134476a1b28d569d41a5eb",
              "version_minor": 0,
              "version_major": 2
            },
            "text/plain": [
              "HBox(children=(FloatProgress(value=0.0, max=102502400.0), HTML(value='')))"
            ]
          },
          "metadata": {
            "tags": []
          }
        },
        {
          "output_type": "stream",
          "text": [
            "\n"
          ],
          "name": "stdout"
        }
      ]
    },
    {
      "cell_type": "code",
      "metadata": {
        "colab": {
          "base_uri": "https://localhost:8080/"
        },
        "id": "c3JJLW3ioupS",
        "outputId": "064bb8de-b803-430b-a858-b041ec6f399a"
      },
      "source": [
        "len(train_dataset)"
      ],
      "execution_count": null,
      "outputs": [
        {
          "output_type": "execute_result",
          "data": {
            "text/plain": [
              "1536"
            ]
          },
          "metadata": {
            "tags": []
          },
          "execution_count": 14
        }
      ]
    },
    {
      "cell_type": "code",
      "metadata": {
        "id": "3HVRYI55gquv"
      },
      "source": [
        "train_loader = DataLoader(dataset=train_dataset, shuffle=False, batch_size=256, num_workers=32)\r\n",
        "test_loader = DataLoader(dataset=test_dataset, shuffle=False, batch_size=64, num_workers=32)"
      ],
      "execution_count": null,
      "outputs": []
    },
    {
      "cell_type": "code",
      "metadata": {
        "colab": {
          "base_uri": "https://localhost:8080/",
          "height": 66,
          "referenced_widgets": [
            "3f817128127948c2b6cfcca80ca4f936",
            "eb4dea286bc14b7da79dbe980b6a5b2e",
            "34b0e5ab54a44721a285b25631ce9551",
            "8f01e8e5c7d047429bee5ef8461043df",
            "46ada5b7bff74e3cb0aca42ab7f2fb39",
            "10437eecf5c8455cbd6e0dd259146459",
            "bed45865c7b24855b6941f749246d607",
            "4b3d57bfab2d430f8dbe3542e19b07ec"
          ]
        },
        "id": "N0KClXFnAeqE",
        "outputId": "e849b5d1-a82e-40f4-a76b-d83a8258e545"
      },
      "source": [
        "res = []\r\n",
        "train_labels = []\r\n",
        "for _, x in tqdm(enumerate(train_loader)):   \r\n",
        "    model.eval()\r\n",
        "    with torch.no_grad():\r\n",
        "        image_tensor, label = x\r\n",
        "        train_labels.append(label)\r\n",
        "        feature = model(image_tensor.to(device))\r\n",
        "        res.append(feature.cpu().numpy())\r\n",
        "\r\n"
      ],
      "execution_count": null,
      "outputs": [
        {
          "output_type": "display_data",
          "data": {
            "application/vnd.jupyter.widget-view+json": {
              "model_id": "3f817128127948c2b6cfcca80ca4f936",
              "version_minor": 0,
              "version_major": 2
            },
            "text/plain": [
              "HBox(children=(FloatProgress(value=1.0, bar_style='info', max=1.0), HTML(value='')))"
            ]
          },
          "metadata": {
            "tags": []
          }
        },
        {
          "output_type": "stream",
          "text": [
            "\n"
          ],
          "name": "stdout"
        }
      ]
    },
    {
      "cell_type": "code",
      "metadata": {
        "id": "phJiHh_ZrMoY"
      },
      "source": [
        "tmp = []\r\n",
        "for i in train_labels:\r\n",
        "    tmp.append(i.numpy())\r\n",
        "y_train = np.concatenate(tmp, axis=0)"
      ],
      "execution_count": null,
      "outputs": []
    },
    {
      "cell_type": "code",
      "metadata": {
        "colab": {
          "base_uri": "https://localhost:8080/"
        },
        "id": "awhT5wvuDSks",
        "outputId": "aa5d3d94-bfc1-4bd0-bdab-331bccbe73cd"
      },
      "source": [
        "res_np = np.concatenate(res, axis=0)\r\n",
        "res_np.shape"
      ],
      "execution_count": null,
      "outputs": [
        {
          "output_type": "execute_result",
          "data": {
            "text/plain": [
              "(1536, 1000)"
            ]
          },
          "metadata": {
            "tags": []
          },
          "execution_count": 24
        }
      ]
    },
    {
      "cell_type": "code",
      "metadata": {
        "colab": {
          "base_uri": "https://localhost:8080/",
          "height": 83,
          "referenced_widgets": [
            "271db61409994afc92efc300b1bea38e",
            "73a66dfa40084311bcf5ba3f1b89dabb",
            "5aa20c864a6e4124bfa4a707d96474f7",
            "ce13d4b27cd942e99e4912df7df07611",
            "261e9cd447e74861884c64be1aa95990",
            "fee0598cc9304ecd938f5bf6203180e8",
            "e91aeb47ee4b4b73b5d6a8105eded601",
            "540b6b1bd03d4a8f807207a01a299f13"
          ]
        },
        "id": "4WnXJLyVGfhk",
        "outputId": "b5ea5291-50b4-4d1f-bd3d-1729990c4504"
      },
      "source": [
        "res = []\r\n",
        "test_labels = []\r\n",
        "for _, x in tqdm(enumerate(test_loader)):   \r\n",
        "    model.eval()\r\n",
        "    with torch.no_grad():\r\n",
        "        image_tensor, label = x\r\n",
        "        test_labels.append(label)\r\n",
        "        feature = model(image_tensor.to(device))\r\n",
        "        res.append(feature.cpu().numpy())\r\n",
        "test_np = np.concatenate(res, axis=0)\r\n",
        "test_np.shape"
      ],
      "execution_count": null,
      "outputs": [
        {
          "output_type": "display_data",
          "data": {
            "application/vnd.jupyter.widget-view+json": {
              "model_id": "271db61409994afc92efc300b1bea38e",
              "version_minor": 0,
              "version_major": 2
            },
            "text/plain": [
              "HBox(children=(FloatProgress(value=1.0, bar_style='info', max=1.0), HTML(value='')))"
            ]
          },
          "metadata": {
            "tags": []
          }
        },
        {
          "output_type": "stream",
          "text": [
            "\n"
          ],
          "name": "stdout"
        },
        {
          "output_type": "execute_result",
          "data": {
            "text/plain": [
              "(400, 1000)"
            ]
          },
          "metadata": {
            "tags": []
          },
          "execution_count": 25
        }
      ]
    },
    {
      "cell_type": "code",
      "metadata": {
        "id": "D3r9ejh5k1zP"
      },
      "source": [
        "tmp = []\r\n",
        "for i in test_labels:\r\n",
        "    tmp.append(i.numpy())\r\n",
        "actual = np.concatenate(tmp, axis=0)"
      ],
      "execution_count": null,
      "outputs": []
    },
    {
      "cell_type": "code",
      "metadata": {
        "id": "AGtYEpvDHs_F"
      },
      "source": [
        "from sklearn.metrics import mean_squared_error, mean_absolute_error, roc_auc_score, classification_report, confusion_matrix\r\n",
        "import matplotlib.pyplot as plt\r\n",
        "from sklearn.utils import shuffle\r\n",
        "from sklearn.model_selection import train_test_split\r\n",
        "from sklearn.preprocessing import StandardScaler\r\n",
        "from sklearn.decomposition import PCA\r\n",
        "from sklearn.ensemble import IsolationForest\r\n",
        "from sklearn import svm\r\n",
        "from sklearn.mixture import GaussianMixture\r\n",
        "from sklearn.isotonic import IsotonicRegression"
      ],
      "execution_count": null,
      "outputs": []
    },
    {
      "cell_type": "code",
      "metadata": {
        "id": "_CnPjSJEHVb4"
      },
      "source": [
        "X_train = res_np[:][:]\r\n",
        "y_train = y_train[:]\r\n",
        "X_test = test_np"
      ],
      "execution_count": null,
      "outputs": []
    },
    {
      "cell_type": "code",
      "metadata": {
        "id": "AzfFWNmM-ePc"
      },
      "source": [
        "# Apply standard scaler to output from resnet50\r\n",
        "ss = StandardScaler()\r\n",
        "ss.fit(X_train)\r\n",
        "X_train = ss.transform(X_train)\r\n",
        "X_test = ss.transform(X_test)\r\n"
      ],
      "execution_count": null,
      "outputs": []
    },
    {
      "cell_type": "code",
      "metadata": {
        "colab": {
          "base_uri": "https://localhost:8080/"
        },
        "id": "2MT1_RIXHz7l",
        "outputId": "7b733705-ea07-47f3-de06-28d34580d872"
      },
      "source": [
        "# Take PCA to reduce feature space dimensionality\r\n",
        "pca = PCA(n_components=64, whiten=True)\r\n",
        "pca = pca.fit(X_train)\r\n",
        "print('Explained variance percentage = %0.2f' % sum(pca.explained_variance_ratio_))\r\n",
        "X_train = pca.transform(X_train)\r\n",
        "X_test = pca.transform(X_test)"
      ],
      "execution_count": null,
      "outputs": [
        {
          "output_type": "stream",
          "text": [
            "Explained variance percentage = 0.88\n"
          ],
          "name": "stdout"
        }
      ]
    },
    {
      "cell_type": "code",
      "metadata": {
        "id": "LYwOagJ1m9jh"
      },
      "source": [
        "gammas = [0.001, 0.002, 0.0015, 0.0018, 0.01, 0.1]\r\n",
        "tuned_parameters = {'kernel' : ['rbf'], 'gamma' : gammas,}"
      ],
      "execution_count": null,
      "outputs": []
    },
    {
      "cell_type": "code",
      "metadata": {
        "id": "_a-FZAGfptUo"
      },
      "source": [
        "from sklearn.model_selection import GridSearchCV"
      ],
      "execution_count": null,
      "outputs": []
    },
    {
      "cell_type": "code",
      "metadata": {
        "colab": {
          "base_uri": "https://localhost:8080/"
        },
        "id": "vrQ4A3yvnDzY",
        "outputId": "e404bdfe-b5f0-4dec-98cc-e2bfbb5c08a4"
      },
      "source": [
        "scores = ['precision']\r\n",
        "for score in scores:\r\n",
        "    clf = GridSearchCV(svm.SVC(), tuned_parameters, cv=10,\r\n",
        "                           scoring='%s_weighted' % score, return_train_score=True)\r\n",
        "\r\n",
        "    clf.fit(X_train, y_train)\r\n",
        "\r\n",
        "    resultDf = pd.DataFrame(clf.cv_results_)\r\n",
        "    print(resultDf[[\"mean_test_score\", \"std_test_score\", \"params\"]].sort_values(by=[\"mean_test_score\"], ascending=False).head())\r\n",
        "\r\n",
        "    print(\"Best parameters set found on development set:\")\r\n",
        "    print()\r\n",
        "    print(clf.best_params_)"
      ],
      "execution_count": null,
      "outputs": [
        {
          "output_type": "stream",
          "text": [
            "/usr/local/lib/python3.6/dist-packages/sklearn/metrics/_classification.py:1272: UndefinedMetricWarning:\n",
            "\n",
            "Precision is ill-defined and being set to 0.0 in labels with no predicted samples. Use `zero_division` parameter to control this behavior.\n",
            "\n",
            "/usr/local/lib/python3.6/dist-packages/sklearn/metrics/_classification.py:1272: UndefinedMetricWarning:\n",
            "\n",
            "Precision is ill-defined and being set to 0.0 in labels with no predicted samples. Use `zero_division` parameter to control this behavior.\n",
            "\n",
            "/usr/local/lib/python3.6/dist-packages/sklearn/metrics/_classification.py:1272: UndefinedMetricWarning:\n",
            "\n",
            "Precision is ill-defined and being set to 0.0 in labels with no predicted samples. Use `zero_division` parameter to control this behavior.\n",
            "\n",
            "/usr/local/lib/python3.6/dist-packages/sklearn/metrics/_classification.py:1272: UndefinedMetricWarning:\n",
            "\n",
            "Precision is ill-defined and being set to 0.0 in labels with no predicted samples. Use `zero_division` parameter to control this behavior.\n",
            "\n",
            "/usr/local/lib/python3.6/dist-packages/sklearn/metrics/_classification.py:1272: UndefinedMetricWarning:\n",
            "\n",
            "Precision is ill-defined and being set to 0.0 in labels with no predicted samples. Use `zero_division` parameter to control this behavior.\n",
            "\n",
            "/usr/local/lib/python3.6/dist-packages/sklearn/metrics/_classification.py:1272: UndefinedMetricWarning:\n",
            "\n",
            "Precision is ill-defined and being set to 0.0 in labels with no predicted samples. Use `zero_division` parameter to control this behavior.\n",
            "\n",
            "/usr/local/lib/python3.6/dist-packages/sklearn/metrics/_classification.py:1272: UndefinedMetricWarning:\n",
            "\n",
            "Precision is ill-defined and being set to 0.0 in labels with no predicted samples. Use `zero_division` parameter to control this behavior.\n",
            "\n",
            "/usr/local/lib/python3.6/dist-packages/sklearn/metrics/_classification.py:1272: UndefinedMetricWarning:\n",
            "\n",
            "Precision is ill-defined and being set to 0.0 in labels with no predicted samples. Use `zero_division` parameter to control this behavior.\n",
            "\n",
            "/usr/local/lib/python3.6/dist-packages/sklearn/metrics/_classification.py:1272: UndefinedMetricWarning:\n",
            "\n",
            "Precision is ill-defined and being set to 0.0 in labels with no predicted samples. Use `zero_division` parameter to control this behavior.\n",
            "\n",
            "/usr/local/lib/python3.6/dist-packages/sklearn/metrics/_classification.py:1272: UndefinedMetricWarning:\n",
            "\n",
            "Precision is ill-defined and being set to 0.0 in labels with no predicted samples. Use `zero_division` parameter to control this behavior.\n",
            "\n"
          ],
          "name": "stderr"
        },
        {
          "output_type": "stream",
          "text": [
            "   mean_test_score  std_test_score                              params\n",
            "0         0.857503        0.057409   {'gamma': 0.001, 'kernel': 'rbf'}\n",
            "2         0.856283        0.061268  {'gamma': 0.0015, 'kernel': 'rbf'}\n",
            "3         0.855653        0.059611  {'gamma': 0.0018, 'kernel': 'rbf'}\n",
            "1         0.855095        0.060077   {'gamma': 0.002, 'kernel': 'rbf'}\n",
            "4         0.764852        0.087129    {'gamma': 0.01, 'kernel': 'rbf'}\n",
            "Best parameters set found on development set:\n",
            "\n",
            "{'gamma': 0.001, 'kernel': 'rbf'}\n"
          ],
          "name": "stdout"
        }
      ]
    },
    {
      "cell_type": "code",
      "metadata": {
        "id": "kjp_VmjU6S09"
      },
      "source": [
        "oc_svm_preds = clf.best_estimator_.predict(X_test)"
      ],
      "execution_count": null,
      "outputs": []
    },
    {
      "cell_type": "code",
      "metadata": {
        "colab": {
          "base_uri": "https://localhost:8080/",
          "height": 455
        },
        "id": "QehfjGALmBgC",
        "outputId": "125b2fd7-a4bd-4c28-848d-6562fa1ae5c5"
      },
      "source": [
        "print('roc auc score: oc_svm_preds')\r\n",
        "print(roc_auc_score(actual, oc_svm_preds))\r\n",
        "print(classification_report(actual, oc_svm_preds))\r\n",
        "sns.heatmap(confusion_matrix(actual, oc_svm_preds),annot=True,fmt='2.0f')\r\n",
        "plt.show()"
      ],
      "execution_count": null,
      "outputs": [
        {
          "output_type": "stream",
          "text": [
            "roc auc score: oc_svm_preds\n",
            "0.7825\n",
            "              precision    recall  f1-score   support\n",
            "\n",
            "           0       0.77      0.81      0.79       200\n",
            "           1       0.80      0.75      0.78       200\n",
            "\n",
            "    accuracy                           0.78       400\n",
            "   macro avg       0.78      0.78      0.78       400\n",
            "weighted avg       0.78      0.78      0.78       400\n",
            "\n"
          ],
          "name": "stdout"
        },
        {
          "output_type": "display_data",
          "data": {
            "image/png": "[encoded data removed]",
            "text/plain": [
              "<Figure size 432x288 with 2 Axes>"
            ]
          },
          "metadata": {
            "tags": []
          }
        }
      ]
    },
    {
      "cell_type": "code",
      "metadata": {
        "id": "Xs2LWVbResYe"
      },
      "source": [
        "data_path = '/content/drive/MyDrive/магистратура/realty_model/model_data'"
      ],
      "execution_count": null,
      "outputs": []
    },
    {
      "cell_type": "code",
      "metadata": {
        "id": "aXhrbLaVfBGE"
      },
      "source": [
        "ls {data_path}"
      ],
      "execution_count": null,
      "outputs": []
    },
    {
      "cell_type": "code",
      "metadata": {
        "id": "09iDGKwDefn3"
      },
      "source": [
        "import pickle\r\n",
        "# Save to file in the current working directory\r\n",
        "pkl_filename = \"occ_svm_model.pkl\"\r\n",
        "with open(os.path.join(data_path,pkl_filename), 'wb') as file:\r\n",
        "    pickle.dump(clf.best_estimator_, file)"
      ],
      "execution_count": null,
      "outputs": []
    },
    {
      "cell_type": "code",
      "metadata": {
        "id": "Nmenzfz_W8dE"
      },
      "source": [
        "from torch.autograd import Variable\r\n",
        "def predict_image(image, model):\r\n",
        "    image_tensor = image_transforms[\"test\"](image).float()\r\n",
        "    image_tensor = image_tensor.unsqueeze_(0)\r\n",
        "    input = Variable(image_tensor)\r\n",
        "    input = input.to(device)\r\n",
        "    output = model(input)\r\n",
        "    index = output.data.cpu().numpy().argmax()\r\n",
        "    return index"
      ],
      "execution_count": null,
      "outputs": []
    },
    {
      "cell_type": "code",
      "metadata": {
        "id": "xPT9T7AAYkCl"
      },
      "source": [
        "def get_random_images(num=None):\r\n",
        "    data = flat_dataset_test\r\n",
        "    classes = data.classes\r\n",
        "    indices = list(range(len(data)))\r\n",
        "    np.random.shuffle(indices)\r\n",
        "    if num is None:\r\n",
        "        idx = indices[:]\r\n",
        "        num = len(indices)\r\n",
        "    else:\r\n",
        "        idx = indices[:num]\r\n",
        "    from torch.utils.data.sampler import SubsetRandomSampler\r\n",
        "    sampler = SubsetRandomSampler(idx)\r\n",
        "    loader = torch.utils.data.DataLoader(data, \r\n",
        "                   sampler=sampler, batch_size=num)\r\n",
        "    dataiter = iter(loader)\r\n",
        "    images, labels = dataiter.next()\r\n",
        "    return images, labels"
      ],
      "execution_count": null,
      "outputs": []
    },
    {
      "cell_type": "code",
      "metadata": {
        "id": "ijkaWrR3YHQ_"
      },
      "source": [
        "to_pil = transforms.ToPILImage()\r\n",
        "images, labels = get_random_images()\r\n",
        "y_true_list = []\r\n",
        "y_pred_list = []\r\n",
        "for ii in range(len(images)):\r\n",
        "    image = to_pil(images[ii])\r\n",
        "    index = predict_image(image, model_conv)\r\n",
        "    y_true_list.append(int(labels[ii]))\r\n",
        "    y_pred_list.append(index)\r\n",
        "\r\n",
        "print(classification_report(y_true_list, y_pred_list))"
      ],
      "execution_count": null,
      "outputs": []
    },
    {
      "cell_type": "code",
      "metadata": {
        "id": "bbGFjpYfqCPD"
      },
      "source": [
        "from sklearn.ensemble import RandomForestClassifier\r\n",
        "rfc=RandomForestClassifier(random_state=42)"
      ],
      "execution_count": null,
      "outputs": []
    },
    {
      "cell_type": "code",
      "metadata": {
        "id": "ND8CEYMqqLjM"
      },
      "source": [
        "param_grid = { \r\n",
        "    'n_estimators': [300, 500],\r\n",
        "    'max_features': ['auto'],\r\n",
        "    'max_depth' : [6, 8],\r\n",
        "    'criterion' :['entropy']\r\n",
        "}"
      ],
      "execution_count": null,
      "outputs": []
    },
    {
      "cell_type": "code",
      "metadata": {
        "colab": {
          "base_uri": "https://localhost:8080/"
        },
        "id": "aa2AL7ElqN3q",
        "outputId": "22a698bb-94d1-43cc-cb58-44f76806353c"
      },
      "source": [
        "CV_rfc = GridSearchCV(estimator=rfc, param_grid=param_grid, cv=5, scoring='precision_micro')\r\n",
        "CV_rfc.fit(X_train, y_train)"
      ],
      "execution_count": null,
      "outputs": [
        {
          "output_type": "execute_result",
          "data": {
            "text/plain": [
              "GridSearchCV(cv=5, error_score=nan,\n",
              "             estimator=RandomForestClassifier(bootstrap=True, ccp_alpha=0.0,\n",
              "                                              class_weight=None,\n",
              "                                              criterion='gini', max_depth=None,\n",
              "                                              max_features='auto',\n",
              "                                              max_leaf_nodes=None,\n",
              "                                              max_samples=None,\n",
              "                                              min_impurity_decrease=0.0,\n",
              "                                              min_impurity_split=None,\n",
              "                                              min_samples_leaf=1,\n",
              "                                              min_samples_split=2,\n",
              "                                              min_weight_fraction_leaf=0.0,\n",
              "                                              n_estimators=100, n_jobs=None,\n",
              "                                              oob_score=False, random_state=42,\n",
              "                                              verbose=0, warm_start=False),\n",
              "             iid='deprecated', n_jobs=None,\n",
              "             param_grid={'criterion': ['entropy'], 'max_depth': [6, 8],\n",
              "                         'max_features': ['auto'], 'n_estimators': [300, 500]},\n",
              "             pre_dispatch='2*n_jobs', refit=True, return_train_score=False,\n",
              "             scoring='precision_micro', verbose=0)"
            ]
          },
          "metadata": {
            "tags": []
          },
          "execution_count": 179
        }
      ]
    },
    {
      "cell_type": "code",
      "metadata": {
        "colab": {
          "base_uri": "https://localhost:8080/"
        },
        "id": "425W_tUivPSr",
        "outputId": "e0508d5f-f9f1-43a3-effd-c8a7c6a13227"
      },
      "source": [
        "print(CV_rfc.best_params_)"
      ],
      "execution_count": null,
      "outputs": [
        {
          "output_type": "stream",
          "text": [
            "{'criterion': 'entropy', 'max_depth': 8, 'max_features': 'auto', 'n_estimators': 500}\n"
          ],
          "name": "stdout"
        }
      ]
    },
    {
      "cell_type": "code",
      "metadata": {
        "id": "8zuJlAXcqWio"
      },
      "source": [
        "random_forest_preds = CV_rfc.best_estimator_.predict(X_test)"
      ],
      "execution_count": null,
      "outputs": []
    },
    {
      "cell_type": "code",
      "metadata": {
        "colab": {
          "base_uri": "https://localhost:8080/"
        },
        "id": "PkQBERoEqkfd",
        "outputId": "95a6884f-1196-43f1-eeab-1ec730e1ef8b"
      },
      "source": [
        "print('roc auc score: random_forest_preds')\r\n",
        "print(roc_auc_score(actual, random_forest_preds))\r\n",
        "print(classification_report(actual, random_forest_preds))\r\n",
        "sns.heatmap(confusion_matrix(actual, random_forest_preds),annot=True,fmt='2.0f')\r\n",
        "plt.show()"
      ],
      "execution_count": null,
      "outputs": [
        {
          "output_type": "stream",
          "text": [
            "roc auc score: random_forest_preds\n",
            "0.7974999999999999\n",
            "              precision    recall  f1-score   support\n",
            "\n",
            "           0       0.92      0.65      0.76       200\n",
            "           1       0.73      0.94      0.82       200\n",
            "\n",
            "    accuracy                           0.80       400\n",
            "   macro avg       0.83      0.80      0.79       400\n",
            "weighted avg       0.83      0.80      0.79       400\n",
            "\n"
          ],
          "name": "stdout"
        },
        {
          "output_type": "display_data",
          "data": {
            "image/png": "[encoded data removed]",
            "text/plain": [
              "<Figure size 432x288 with 2 Axes>"
            ]
          },
          "metadata": {
            "tags": []
          }
        }
      ]
    }
  ]
}